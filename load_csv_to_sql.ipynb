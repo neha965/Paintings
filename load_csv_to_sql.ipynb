{
 "cells": [
  {
   "cell_type": "code",
   "execution_count": 123,
   "id": "fc21ea11-586a-4e08-a87c-0d5a457433ce",
   "metadata": {},
   "outputs": [],
   "source": [
    "import pandas as pd\n",
    "import sqlalchemy  #create_engine\n",
    "import pyodbc      #drivers\n",
    "import os"
   ]
  },
  {
   "cell_type": "code",
   "execution_count": 124,
   "id": "2fea0b6b-0b37-4410-831d-af08b83cbb40",
   "metadata": {},
   "outputs": [],
   "source": [
    "os.chdir(r\"C:\\Users\\nehadad\\Downloads\\archive\")"
   ]
  },
  {
   "cell_type": "code",
   "execution_count": 125,
   "id": "16ddf6b3-ba33-458a-92c2-1a01926e3f24",
   "metadata": {},
   "outputs": [
    {
     "data": {
      "text/plain": [
       "'C:\\\\Users\\\\nehadad\\\\Downloads\\\\archive'"
      ]
     },
     "execution_count": 125,
     "metadata": {},
     "output_type": "execute_result"
    }
   ],
   "source": [
    "os.getcwd()            #current working directory"
   ]
  },
  {
   "cell_type": "code",
   "execution_count": 126,
   "id": "89e15436-5f63-4de9-bf4f-1406cc0dbdb2",
   "metadata": {},
   "outputs": [
    {
     "name": "stdout",
     "output_type": "stream",
     "text": [
      "['artist.csv', 'canvas_size.csv', 'image_link.csv', 'museum.csv', 'museum_hours.csv', 'product_size.csv', 'subject.csv', 'work.csv']\n"
     ]
    }
   ],
   "source": [
    "files= os.listdir()\n",
    "print(files)          #list all files in cwd"
   ]
  },
  {
   "cell_type": "code",
   "execution_count": 127,
   "id": "92a0ce00-bd2c-48a8-b591-b1502a07b0e1",
   "metadata": {},
   "outputs": [
    {
     "data": {
      "text/plain": [
       "['SQL Server',\n",
       " 'MySQL ODBC 8.0 ANSI Driver',\n",
       " 'MySQL ODBC 8.0 Unicode Driver',\n",
       " 'Microsoft Access Driver (*.mdb, *.accdb)',\n",
       " 'Microsoft Excel Driver (*.xls, *.xlsx, *.xlsm, *.xlsb)',\n",
       " 'Microsoft Access Text Driver (*.txt, *.csv)',\n",
       " 'SQL Server Native Client RDA 11.0',\n",
       " 'ODBC Driver 17 for SQL Server']"
      ]
     },
     "execution_count": 127,
     "metadata": {},
     "output_type": "execute_result"
    }
   ],
   "source": [
    "pyodbc.drivers()"
   ]
  },
  {
   "cell_type": "code",
   "execution_count": null,
   "id": "4a6a1ad5-2c34-4191-a3aa-05c2560333c2",
   "metadata": {},
   "outputs": [],
   "source": [
    "#How to make a connection"
   ]
  },
  {
   "cell_type": "code",
   "execution_count": 128,
   "id": "e73fcdc8-b54c-439f-87fc-c6ad0b8ea678",
   "metadata": {},
   "outputs": [],
   "source": [
    "#connection URL\n",
    "conn= sqlalchemy.create_engine(f'mssql+pyodbc://NEHADAD01\\SQLEXPRESS/famous_paintings?trusted_connection=yes&driver=ODBC Driver 17 for SQL Server');"
   ]
  },
  {
   "cell_type": "code",
   "execution_count": 132,
   "id": "df9dd93d-9cff-4d0b-8b38-4bffd6a7c12b",
   "metadata": {},
   "outputs": [],
   "source": [
    "for file in files:\n",
    "    df= pd.read_csv(fr'C:\\Users\\nehadad\\Downloads\\archive\\{file}')  #f and r string\n",
    "    df.to_sql(file,con= conn, if_exists= 'replace', index= False)         "
   ]
  },
  {
   "cell_type": "code",
   "execution_count": null,
   "id": "542c3c24-8eb7-4220-a229-7f8baecb2887",
   "metadata": {},
   "outputs": [],
   "source": []
  }
 ],
 "metadata": {
  "kernelspec": {
   "display_name": "Python 3 (ipykernel)",
   "language": "python",
   "name": "python3"
  },
  "language_info": {
   "codemirror_mode": {
    "name": "ipython",
    "version": 3
   },
   "file_extension": ".py",
   "mimetype": "text/x-python",
   "name": "python",
   "nbconvert_exporter": "python",
   "pygments_lexer": "ipython3",
   "version": "3.11.7"
  }
 },
 "nbformat": 4,
 "nbformat_minor": 5
}
